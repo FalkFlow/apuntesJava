{
 "cells": [
  {
   "cell_type": "markdown",
   "id": "d806d8f5",
   "metadata": {},
   "source": [
    "# Apuntes Java (Paquete, Clases, Print, Variables)"
   ]
  },
  {
   "cell_type": "code",
   "execution_count": null,
   "id": "a8059f78",
   "metadata": {},
   "outputs": [],
   "source": []
  }
 ],
 "metadata": {
  "kernelspec": {
   "display_name": "Java",
   "language": "java",
   "name": "java"
  },
  "language_info": {
   "codemirror_mode": "java",
   "file_extension": ".jshell",
   "mimetype": "text/x-java-source",
   "name": "Java",
   "pygments_lexer": "java",
   "version": "20.0.2+9-78"
  }
 },
 "nbformat": 4,
 "nbformat_minor": 5
}
