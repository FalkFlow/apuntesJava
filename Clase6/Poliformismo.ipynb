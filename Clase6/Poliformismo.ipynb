{
 "cells": [
  {
   "cell_type": "markdown",
   "metadata": {},
   "source": [
    "# Poliformismo\n",
    "\n",
    "En programación orientada a objetos **POO**, **polimorfismo** es la capacidad que tienen los objetos de una clase en ofrecer respuesta distinta e independiente en función de los parámetros (diferentes implementaciones) utilizados durante su invocación. Dicho de otro modo el objeto como entidad puede contener valores de diferentes tipos durante la ejecución del programa.\n",
    "\n",
    "En **JAVA** el término polimorfismo también suele definirse como **‘Sobreescritura de parámetros’**, que así de pronto no suena tan divertido pero como veremos más adelante induce a cierta confusión. En realidad suele confundirse con el tipo de poliformismo más común, pero no es del todo exacto usar esta denominación.\n"
   ]
  },
  {
   "cell_type": "markdown",
   "metadata": {},
   "source": [
    "Veremos un pequeño ejemplo de esto"
   ]
  },
  {
   "cell_type": "code",
   "execution_count": 4,
   "metadata": {},
   "outputs": [],
   "source": [
    "/*Crearemos una superclase denominada animal */\n",
    "public class Animal{\n",
    "\n",
    "    public Animal(){\n",
    "\n",
    "    }\n",
    "\n",
    "    public void makeSound(){\n",
    "        System.out.println(\"Grr...\");\n",
    "    }\n",
    "}\n",
    "\n",
    "/* Crearemos una calse hija a partir de la class Animal */\n",
    "\n",
    "public class Cat extends Animal{\n",
    "\n",
    "    public Cat(){\n",
    "\n",
    "    }\n",
    "\n",
    "    @Override\n",
    "    public void makeSound(){\n",
    "        System.out.println(\"Meow\");\n",
    "    }\n",
    "}\n",
    "\n",
    "/* Crearemos una calse hija a partir de la class Animal */\n",
    "\n",
    "public class Dog extends Animal{\n",
    "\n",
    "    public Dog(){\n",
    "\n",
    "    }\n",
    "\n",
    "    @Override\n",
    "    public void makeSound(){\n",
    "        System.out.println(\"Woof\");\n",
    "    }\n",
    "}"
   ]
  },
  {
   "cell_type": "markdown",
   "metadata": {},
   "source": [
    "Si nos damos cuenta el metodo makeSound es una **sobreescritura** del metodo de la clase padre, en otras palabras si el objeto pertenece a la clase Dog correra el metodo makeSound de la clase Dog, pero es animal o cualquier otra clase que no sobrecargue el metodo makeSound"
   ]
  },
  {
   "cell_type": "code",
   "execution_count": 5,
   "metadata": {},
   "outputs": [
    {
     "name": "stdout",
     "output_type": "stream",
     "text": [
      "Woof\n",
      "Meow\n"
     ]
    }
   ],
   "source": [
    "Animal a = new Dog();\n",
    "Animal b = new Cat();\n",
    "\n",
    "a.makeSound();\n",
    "b.makeSound();"
   ]
  },
  {
   "cell_type": "markdown",
   "metadata": {},
   "source": [
    "Otro metodo de **polimorfismo** es una **sobrecarga** de parametros, en pocas palabras es cuando un *metodo* tiene el mismo nombre pero diferentes parametros, por ejemplo:\n",
    "\n",
    "```java\n",
    "public int sumar(int a, int b){\n",
    "    return a+b;\n",
    "}\n",
    "public double sumar(double a, double b){\n",
    "    return a+b;\n",
    "}\n",
    "```\n",
    "\n",
    "en este caso los metodos sumar tienen el mismo nombre pero diferentes parametros, esto es una **sobrecarga** de parametros, por ende cuando llamemos al metodo sumar con parametros enteros, se ejecutara el metodo sumar con parametros enteros, y cuando llamemos al metodo sumar con parametros double, se ejecutara el metodo sumar con parametros double."
   ]
  },
  {
   "cell_type": "code",
   "execution_count": 1,
   "metadata": {},
   "outputs": [],
   "source": [
    "public int add(int x, int y){\n",
    "    return x + y;\n",
    "}\n",
    "\n",
    "public double add(double x, double y){\n",
    "    return x + y;\n",
    "}"
   ]
  },
  {
   "cell_type": "code",
   "execution_count": 3,
   "metadata": {},
   "outputs": [
    {
     "name": "stdout",
     "output_type": "stream",
     "text": [
      "3\n",
      "3.5\n"
     ]
    }
   ],
   "source": [
    "System.out.println(add(1, 2));\n",
    "System.out.println(add(1.2, 2.3));"
   ]
  },
  {
   "cell_type": "markdown",
   "metadata": {},
   "source": [
    "Como podemos observar dependiendo de los parametros que le pasemos al metodo sumar, se ejecutara un metodo diferente, esto es **polimorfismo**."
   ]
  }
 ],
 "metadata": {
  "kernelspec": {
   "display_name": "Java",
   "language": "java",
   "name": "java"
  },
  "language_info": {
   "codemirror_mode": "java",
   "file_extension": ".jshell",
   "mimetype": "text/x-java-source",
   "name": "java",
   "pygments_lexer": "java",
   "version": "20.0.2+9-78"
  },
  "orig_nbformat": 4
 },
 "nbformat": 4,
 "nbformat_minor": 2
}
