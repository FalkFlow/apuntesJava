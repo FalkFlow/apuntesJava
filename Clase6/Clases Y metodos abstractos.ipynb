{
 "cells": [
  {
   "cell_type": "markdown",
   "metadata": {},
   "source": [
    "# Clases y metodos abstractos\n",
    "\n",
    "Las clases abstractas son clases que no se pueden instanciar, es decir, no se pueden crear objetos de ellas. Estas clases se utilizan para definir una interfaz que debe ser implementada por las clases hijas. Las clases hijas deben implementar todos los métodos abstractos definidos en la clase padre, de lo contrario, también se consideran clases abstractas."
   ]
  },
  {
   "cell_type": "code",
   "execution_count": 1,
   "metadata": {},
   "outputs": [],
   "source": [
    "/* Asi se define una clase abstracta */\n",
    "public abstract class Animal{\n",
    "    \n",
    "}"
   ]
  },
  {
   "cell_type": "code",
   "execution_count": 3,
   "metadata": {},
   "outputs": [
    {
     "ename": "CompilationException",
     "evalue": "",
     "output_type": "error",
     "traceback": [
      "\u001b[1m\u001b[30m|   \u001b[1m\u001b[30mAnimal animal = \u001b[0m\u001b[1m\u001b[30m\u001b[41mnew Animal()\u001b[0m\u001b[1m\u001b[30m;\u001b[0m",
      "\u001b[1m\u001b[31mAnimal is abstract; cannot be instantiated\u001b[0m",
      ""
     ]
    }
   ],
   "source": [
    "Animal animal = new Animal();"
   ]
  },
  {
   "cell_type": "markdown",
   "metadata": {},
   "source": [
    "Como vemos no se pueden crear objetos de la clase abstracta, pero si se pueden crear objetos de las clases hijas. que heredan de la clase abstracta. Otro problema es que cualquier clase que herede de una asbtracta debe implementar todos los metodos abstractos de la clase padre."
   ]
  },
  {
   "cell_type": "code",
   "execution_count": 4,
   "metadata": {},
   "outputs": [],
   "source": [
    "public abstract class Animal{\n",
    "    public abstract void hacerSonido();\n",
    "}"
   ]
  },
  {
   "cell_type": "code",
   "execution_count": 5,
   "metadata": {},
   "outputs": [
    {
     "ename": "CompilationException",
     "evalue": "",
     "output_type": "error",
     "traceback": [
      "\u001b[1m\u001b[30m|   \u001b[1m\u001b[30m\u001b[0m\u001b[1m\u001b[30m\u001b[41mpublic class Perro extends Animal{\u001b[0m",
      "\u001b[1m\u001b[30m|   \u001b[1m\u001b[30m\u001b[41m\u001b[0m",
      "\u001b[1m\u001b[30m|   \u001b[1m\u001b[30m\u001b[41m}\u001b[0m",
      "\u001b[1m\u001b[31mPerro is not abstract and does not override abstract method hacerSonido() in Animal\u001b[0m",
      ""
     ]
    }
   ],
   "source": [
    "public class Perro extends Animal{\n",
    "\n",
    "}"
   ]
  },
  {
   "cell_type": "markdown",
   "metadata": {},
   "source": [
    "Como vemos al no poseer el metodo abstracto de la clase padre, produce un error de compilacion."
   ]
  },
  {
   "cell_type": "code",
   "execution_count": 6,
   "metadata": {},
   "outputs": [],
   "source": [
    "public class Perro extends Animal{\n",
    "    public void hacerSonido(){\n",
    "        System.out.println(\"Guau\");\n",
    "    }\n",
    "}"
   ]
  },
  {
   "cell_type": "markdown",
   "metadata": {},
   "source": [
    "Pero ahora vemos que momento de implementar el metodo abstracto de la clase padre, el error desaparece."
   ]
  },
  {
   "cell_type": "markdown",
   "metadata": {},
   "source": [
    "El objetivo de esto es tener una clase que sirva de planillas para otras cosas, pero esto significa que la clase abstracta no es una clase completa, si no es una generalización, que debe ser completadas por las clases hijas."
   ]
  }
 ],
 "metadata": {
  "kernelspec": {
   "display_name": "Java",
   "language": "java",
   "name": "java"
  },
  "language_info": {
   "codemirror_mode": "java",
   "file_extension": ".jshell",
   "mimetype": "text/x-java-source",
   "name": "java",
   "pygments_lexer": "java",
   "version": "20.0.2+9-78"
  },
  "orig_nbformat": 4
 },
 "nbformat": 4,
 "nbformat_minor": 2
}
