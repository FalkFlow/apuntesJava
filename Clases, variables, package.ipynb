{
 "cells": [
  {
   "cell_type": "markdown",
   "id": "d806d8f5",
   "metadata": {},
   "source": [
    "# Apuntes Java (Paquete, Clases, Print, Variables)"
   ]
  },
  {
   "cell_type": "markdown",
   "id": "80ea34fc",
   "metadata": {},
   "source": [
    "# Paquete\n",
    "\n",
    "El paquete es un contenedor que permite agrupar las distintas partes de un programa, por lo general estas partes son clases que poseen alguna funcionalidad o elementos comunes entre si. dandole a estas un directorio de estructura jerarquica."
   ]
  },
  {
   "cell_type": "markdown",
   "id": "bf860e7c",
   "metadata": {},
   "source": [
    "# Clases\n",
    "\n",
    "Las clases son un tipo de dato definido por el usuario, que contiene variables y funciones agrupadas en una sola estructura. Las clases son la base de la programación orientada a objetos (POO). mas que nada sin una planilla para la creación de estos ultimos. Permiten las **abstracción** y **encapsulación** de datos. Además, permiten la **herencia** y el **polimorfismo**. También se pueden crear **clases abstractas** y **clases anidadas**.\n",
    "\n",
    "## Componentes\n",
    "\n",
    "- **Campos de datos**: Son las variables que definen la clase.\n",
    "- **Métodos**: Son las funciones o subrutinas que definen la clase y manipulan dichos datos.\n",
    "  - **Constructores**: Son los métodos que se ejecutan automáticamente al crear un objeto de la clase, sirven para inicializar los campos de datos.\n",
    "  - **Métodos de acceso (getter)**: Son los métodos que permiten acceder a los campos de datos de la clase.\n",
    "  - **Métodos de modificación(setter)**: Son los métodos que permiten modificar los campos de datos de la clase.\n",
    "  - **Métodos de custom**: Son los métodos que definen la funcionalidad de la clase.\n",
    "  - **Métodos de clase**: Son los métodos que se pueden ejecutar sin necesidad de crear un objeto de la clase.\n",
    "  - **Métodos toString**: Son los métodos que se ejecutan automáticamente al imprimir un objeto de la clase, sirven para mostrar los campos de datos de la clase."
   ]
  },
  {
   "cell_type": "markdown",
   "id": "f78e429d",
   "metadata": {},
   "source": [
    "# Print\n",
    "\n",
    "El método print() en Java se utiliza para mostrar un argumento pasado en la consola. El método print() puede ser sobrecargado para aceptar cualquier tipo de argumento. Imprime el argumento pasado, en la pantalla."
   ]
  },
  {
   "cell_type": "code",
   "execution_count": 1,
   "id": "e7c38cd6",
   "metadata": {
    "vscode": {
     "languageId": "java"
    }
   },
   "outputs": [
    {
     "name": "stdout",
     "output_type": "stream",
     "text": [
      "Hola mundo\n"
     ]
    }
   ],
   "source": [
    "// el print por consola en Java se realiza de la siguiente manera\n",
    "\n",
    "System.out.print(\"Hola\");\n",
    "System.out.print(\"Mundo\");\n"
   ]
  },
  {
   "cell_type": "markdown",
   "id": "9c53c66f",
   "metadata": {},
   "source": [
    "Ahora bien, como podemos ver en el ejemplo anterior, el método print() no añade una nueva línea al final de la salida. Por lo tanto, si queremos imprimir una nueva línea, debemos usar el método println()."
   ]
  },
  {
   "cell_type": "code",
   "execution_count": 2,
   "id": "d721f0ad",
   "metadata": {
    "vscode": {
     "languageId": "java"
    }
   },
   "outputs": [
    {
     "name": "stdout",
     "output_type": "stream",
     "text": [
      "Hola\n",
      "Mundo\n"
     ]
    }
   ],
   "source": [
    "// el println inserta una nueva linea despues de cada print\n",
    "System.out.println(\"Hola\");\n",
    "System.out.println(\"Mundo\");"
   ]
  },
  {
   "cell_type": "markdown",
   "id": "464a32ae",
   "metadata": {},
   "source": [
    "Ahora bien el print no necesariamente tiene que ser un texto, puede ser una variable, un numero, una operación, etc."
   ]
  },
  {
   "cell_type": "code",
   "execution_count": 3,
   "id": "7ae5164b",
   "metadata": {
    "vscode": {
     "languageId": "java"
    }
   },
   "outputs": [
    {
     "name": "stdout",
     "output_type": "stream",
     "text": [
      "30\n"
     ]
    }
   ],
   "source": [
    "int a = 10;\n",
    "int b = 20;\n",
    "int c = a + b;\n",
    "\n",
    "System.out.println(c);"
   ]
  },
  {
   "cell_type": "markdown",
   "id": "d9489b4e",
   "metadata": {},
   "source": [
    "o incluso puede printear una mezcla de texto, variables o operaciones."
   ]
  },
  {
   "cell_type": "code",
   "execution_count": 5,
   "id": "79e97697",
   "metadata": {
    "vscode": {
     "languageId": "java"
    }
   },
   "outputs": [
    {
     "name": "stdout",
     "output_type": "stream",
     "text": [
      "el resultado de sumar 10 y 20 es: 30\n"
     ]
    }
   ],
   "source": [
    "int d = 10;\n",
    "int e = 20;\n",
    "int f = d + e;\n",
    "System.out.println(\"el resultado de sumar \" + d + \" y \" + e + \" es: \" + f);"
   ]
  },
  {
   "cell_type": "markdown",
   "id": "395b6a0f",
   "metadata": {},
   "source": [
    "# Variables\n",
    "\n",
    "Para hablar de variables en Java, primero debemos saber que es una variable. Una variable es un espacio en la memoria del ordenador donde se almacena un dato. Este dato puede ser de cualquier tipo, por ejemplo, un número, una cadena de texto, un valor lógico (verdadero o falso), etc.\n",
    "\n",
    "En Java, las variables se pueden clasificar en dos tipos:\n",
    "\n",
    "- **Variables locales**: Son las variables declaradas dentro de un método. Estas variables se destruyen cuando el método termina.\n",
    "- **Variables de instancia**: Son las variables declaradas dentro de una clase, pero fuera de un método. Estas variables se destruyen cuando el objeto es destruido.\n",
    "\n",
    "## Tipos de datos\n",
    "\n",
    "En Java, los tipos de datos son los siguientes (los tipos de datos en negrita son los más utilizados):\n",
    "\n",
    "- **byte**: 8 bits con signo. Rango: -128 a 127.\n",
    "- **short**: 16 bits con signo. Rango: -32768 a 32767.\n",
    "- **string**: Cadena de caracteres.\n",
    "- **char**: 16 bits sin signo. Rango: 0 a 65535.\n",
    "- **int**: 32 bits con signo. Rango: -2147483648 a 2147483647.\n",
    "- **long**: 64 bits con signo. Rango: -9223372036854775808 a 9223372036854775807.\n",
    "- **float**: 32 bits con signo. Rango: 1.40129846432481707e-45 a 3.40282346638528860e+38.\n",
    "- **double**: 64 bits con signo. Rango: 4.94065645841246544e-324d a 1.79769313486231570e+308d.\n",
    "- **boolean**: 1 bit. Rango: true o false.\n",
    "- **void**: Sin valor.\n",
    "\n",
    "## Declaración de variables\n",
    "\n",
    "Para declarar una variable en Java, se debe especificar el tipo de dato, seguido del nombre de la variable. Por ejemplo:\n",
    "\n",
    "```java\n",
    "int numero;\n",
    "String nombre;\n",
    "boolean verdadero;\n",
    "char letra;\n",
    "// Entre otros\n",
    "```"
   ]
  }
 ],
 "metadata": {
  "kernelspec": {
   "display_name": "Java",
   "language": "java",
   "name": "java"
  },
  "language_info": {
   "codemirror_mode": "java",
   "file_extension": ".jshell",
   "mimetype": "text/x-java-source",
   "name": "Java",
   "pygments_lexer": "java",
   "version": "20.0.2+9-78"
  }
 },
 "nbformat": 4,
 "nbformat_minor": 5
}
