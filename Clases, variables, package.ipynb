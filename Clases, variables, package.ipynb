{
 "cells": [
  {
   "cell_type": "markdown",
   "id": "d806d8f5",
   "metadata": {},
   "source": [
    "# Apuntes Java (Paquete, Clases, Print, Variables)"
   ]
  },
  {
   "cell_type": "markdown",
   "id": "bc622606",
   "metadata": {},
   "source": [
    "Definiremos o trataremos de explicar que es un *paquete*, una *clase*, una *variable* y como se imprime en Java.\n",
    "\n",
    "## Paquete\n",
    "\n",
    "Es un contenedor de clases que permite agrupar las distintas partes de un programa y que por lo general tiene una funcionalidad y elementos **comunes**, definiendo la ubicación de dichas clases en un directorio de estructura **jerárquica**. "
   ]
  },
  {
   "cell_type": "markdown",
   "id": "ece815ec",
   "metadata": {},
   "source": [
    "## Clase\n",
    "\n",
    "Es una plantilla para el objetivo de la creación de objetos de datos según un modelo **predefinido**. Las clases se utilizan para representar **entidades o conceptos**. Permiten **abstraer** los datos y sus operaciones asociadas al modo de una **caja negra** y poseen ciertas propiedades como la [Encapsulación](https://es.wikipedia.org/wiki/Encapsulamiento_(inform%C3%A1tica))."
   ]
  },
  {
   "cell_type": "code",
   "execution_count": null,
   "id": "2bbfe8f4",
   "metadata": {},
   "outputs": [
    {
     "ename": "",
     "evalue": "",
     "output_type": "error",
     "traceback": [
      "\u001b[1;31mNo se pudo iniciar el Kernel. \n",
      "\u001b[1;31mThe kernel 'Java' was not started as it is located in an insecure location 'c:\\ProgramData\\jupyter\\kernels\\java\\kernel.json'.  \n",
      "\u001b[1;31mClick <a href='https://aka.ms/JupyterTrustedKernelPaths'>here</a> for further details, optionally update the setting <a href='command:workbench.action.openSettings?[\"jupyter.kernels.trusted\"]'>jupyter.kernels.trusted</a> to trust the kernel."
     ]
    }
   ],
   "source": [
    "System.out.println(\"Hola mundo\");\n"
   ]
  }
 ],
 "metadata": {
  "kernelspec": {
   "display_name": "Java",
   "language": "java",
   "name": "java"
  },
  "language_info": {
   "codemirror_mode": "java",
   "file_extension": ".jshell",
   "mimetype": "text/x-java-source",
   "name": "java",
   "pygments_lexer": "java",
   "version": "20.0.2+9-78"
  }
 },
 "nbformat": 4,
 "nbformat_minor": 5
}
