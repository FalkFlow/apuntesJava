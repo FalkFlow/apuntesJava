{
 "cells": [
  {
   "cell_type": "markdown",
   "metadata": {},
   "source": [
    "# Scanner\n",
    "\n",
    "La clase [*Scanner*]{http://puntocomnoesunlenguaje.blogspot.com/2012/08/java-scanner.html \"Java scanner\"} es una clase que permite leer datos de diferentes tipos de fuentes de entrada. En nuestro caso, la usaremos para leer datos desde el teclado. Para esto hay que importar la clase *Scanner* desde el paquete *java.util*. y crear un objeto de la clase *Scanner*.\n",
    "\n",
    "```java\n",
    "import java.util.Scanner;\n",
    "\n",
    "public class Main {\n",
    "    public static void main(String[] args) {\n",
    "        Scanner scanner = new Scanner(System.in);\n",
    "    }\n",
    "}\n",
    "```\n",
    "\n",
    "El objeto *scanner* creado permite leer datos desde el teclado. Para esto, se usa el método *nextLine()* que retorna una cadena de caracteres. Por ejemplo, el siguiente programa lee una cadena de caracteres desde el teclado y la imprime en la consola.\n",
    "\n",
    "```java\n",
    "\n",
    "import java.util.Scanner;\n",
    "\n",
    "public class Main {\n",
    "    public static void main(String[] args) {\n",
    "        Scanner scanner = new Scanner(System.in);\n",
    "        String cadena = scanner.nextLine();\n",
    "        System.out.println(cadena);\n",
    "    }\n",
    "}\n",
    "```"
   ]
  },
  {
   "cell_type": "code",
   "execution_count": 53,
   "metadata": {
    "vscode": {
     "languageId": "java"
    }
   },
   "outputs": [
    {
     "name": "stdout",
     "output_type": "stream",
     "text": [
      "Ingrese su nombre: \n"
     ]
    },
    {
     "name": "stdout",
     "output_type": "stream",
     "text": [
      "Ingrese su edad: \n",
      "Ingrese su sueldo: \n",
      "Su nombre es martin\n",
      "Su nombre es 22\n",
      "Su nombre es 196.562\n"
     ]
    }
   ],
   "source": [
    "import java.util.Scanner;\n",
    "\n",
    "Scanner scanner = new Scanner(System.in);\n",
    "System.out.println(\"Ingrese su nombre: \");\n",
    "String name = scanner.nextLine();\n",
    "System.out.println(\"Ingrese su edad: \");\n",
    "int age = scanner.nextInt();\n",
    "System.out.println(\"Ingrese su sueldo: \");\n",
    "double salary = scanner.nextDouble();\n",
    "System.out.println(\"Su nombre es \" + name);\n",
    "System.out.println(\"Su nombre es \" + age);\n",
    "System.out.println(\"Su nombre es \" + salary);\n"
   ]
  },
  {
   "cell_type": "markdown",
   "metadata": {},
   "source": [
    "Scanner no solo recibe cadenas de caracteres, sino que también puede recibir números enteros, números reales, etc. Para esto, se usan los métodos *nextInt()*, *nextDouble()*, etc. Por ejemplo, el siguiente programa lee un número entero desde el teclado y lo imprime en la consola.\n",
    "\n",
    "```java\n",
    "import java.util.Scanner;\n",
    "\n",
    "public class Main {\n",
    "    public static void main(String[] args) {\n",
    "        Scanner scanner = new Scanner(System.in);\n",
    "        int numero = scanner.nextInt();//numero entero recibe\n",
    "        System.out.println(numero);\n",
    "    }\n",
    "}\n",
    "```\n",
    "\n",
    "Para leer un número real, se usa el método *nextDouble()*.\n",
    "\n",
    "```java\n",
    "import java.util.Scanner;\n",
    "\n",
    "public class Main {\n",
    "    public static void main(String[] args) {\n",
    "        Scanner scanner = new Scanner(System.in);\n",
    "        double numero = scanner.nextDouble();//numero real recibe\n",
    "        System.out.println(numero);\n",
    "    }\n",
    "}\n",
    "```"
   ]
  },
  {
   "cell_type": "markdown",
   "metadata": {},
   "source": [
    "El uso en conjunto de Scanner con los ciclos de iteracion logran crear menus por consolas que permiten al usuario interactuar con el programa. Por ejemplo, el siguiente programa crea un menu que permite al usuario elegir entre 3 opciones: 1) Sumar dos numeros, 2) Restar dos numeros, 3) Salir del programa. El programa se ejecuta hasta que el usuario elija la opcion 3.\n",
    "\n",
    "```java\n",
    "import java.util.Scanner;\n",
    "\n",
    "public class Main {\n",
    "    public static void main(String[] args) {\n",
    "        Scanner scanner = new Scanner(System.in);\n",
    "        int opcion = 0;\n",
    "        while (opcion != 3) {\n",
    "            System.out.println(\"1) Sumar dos numeros\");\n",
    "            System.out.println(\"2) Restar dos numeros\");\n",
    "            System.out.println(\"3) Salir del programa\");\n",
    "            opcion = scanner.nextInt();\n",
    "            if (opcion == 1) {\n",
    "                System.out.println(\"Ingrese el primer numero\");\n",
    "                int numero1 = scanner.nextInt();\n",
    "                System.out.println(\"Ingrese el segundo numero\");\n",
    "                int numero2 = scanner.nextInt();\n",
    "                int suma = numero1 + numero2;\n",
    "                System.out.println(\"La suma es: \" + suma);\n",
    "            } else if (opcion == 2) {\n",
    "                System.out.println(\"Ingrese el primer numero\");\n",
    "                int numero1 = scanner.nextInt();\n",
    "                System.out.println(\"Ingrese el segundo numero\");\n",
    "                int numero2 = scanner.nextInt();\n",
    "                int resta = numero1 - numero2;\n",
    "                System.out.println(\"La resta es: \" + resta);\n",
    "            }\n",
    "        }\n",
    "    }\n",
    "}\n",
    "```"
   ]
  },
  {
   "cell_type": "code",
   "execution_count": 51,
   "metadata": {
    "vscode": {
     "languageId": "java"
    }
   },
   "outputs": [
    {
     "name": "stdout",
     "output_type": "stream",
     "text": [
      "1) Sumar dos numeros\n",
      "2) Restar dos numeros\n",
      "3) Salir del programa\n",
      "Ingrese el primer numero\n",
      "Ingrese el segundo numero\n",
      "La resta es: -5\n",
      "1) Sumar dos numeros\n",
      "2) Restar dos numeros\n",
      "3) Salir del programa\n"
     ]
    }
   ],
   "source": [
    "import java.util.Scanner;\n",
    "\n",
    "\n",
    "Scanner scanner = new Scanner(System.in);\n",
    "int opcion = 0;\n",
    "while (opcion != 3) {\n",
    "    System.out.println(\"1) Sumar dos numeros\");\n",
    "    System.out.println(\"2) Restar dos numeros\");\n",
    "    System.out.println(\"3) Salir del programa\");\n",
    "    opcion = scanner.nextInt();\n",
    "    if (opcion == 1) {\n",
    "        System.out.println(\"Ingrese el primer numero\");\n",
    "        int numero1 = scanner.nextInt();\n",
    "        System.out.println(\"Ingrese el segundo numero\");\n",
    "        int numero2 = scanner.nextInt();\n",
    "        int suma = numero1 + numero2;\n",
    "        System.out.println(\"La suma es: \" + suma);\n",
    "    } else if (opcion == 2) {\n",
    "        System.out.println(\"Ingrese el primer numero\");\n",
    "        int numero1 = scanner.nextInt();\n",
    "        System.out.println(\"Ingrese el segundo numero\");\n",
    "        int numero2 = scanner.nextInt();\n",
    "        int resta = numero1 - numero2;\n",
    "        System.out.println(\"La resta es: \" + resta);\n",
    "    }\n",
    "}\n"
   ]
  },
  {
   "cell_type": "markdown",
   "metadata": {},
   "source": [
    "# Strings\n",
    "\n",
    "La clase **String** a diferencia del tipo de dato *string* en Java, es una clase que permite manipular cadenas de caracteres. Para esto, la clase **String** tiene una serie de métodos que permiten realizar diferentes operaciones con cadenas de caracteres. Por ejemplo, el siguiente programa crea un objeto de la clase **String** y luego imprime la longitud de la cadena de caracteres usando el método *length()*.\n",
    "\n",
    "Hay que entender que los *Strings* son inmutables en Java, es decir, una vez que se crea un objeto de la clase *String*, no se puede modificar. Por eso al tratar de modificar un *String* , lo que ocurre en veradad es que se crea un nuevo *String*.\n",
    "\n",
    "## Metodos de la clase String\n",
    "\n",
    "- **length()**: Retorna la longitud de la cadena de caracteres.\n",
    "- **charAt(int index)**: Retorna el caracter en la posición *index*.\n",
    "- **equals(String str)**: Retorna *true* si la cadena de caracteres es igual a *str*.\n",
    "- **equalsIgnoreCase(String str)**: Retorna *true* si la cadena de caracteres es igual a *str* ignorando mayúsculas y minúsculas.\n",
    "- **compareTo(String str)**: Retorna un número negativo si la cadena de caracteres es menor a *str*, 0 si son iguales y un número positivo si la cadena de caracteres es mayor a *str*.\n",
    "- **compareToIgnoreCase(String str)**: Retorna un número negativo si la cadena de caracteres es menor a *str*, 0 si son iguales y un número positivo si la cadena de caracteres es mayor a *str* ignorando mayúsculas y minúsculas.\n",
    "- **indexOf(String str)**: Retorna la posición de la primera ocurrencia de *str* en la cadena de caracteres.\n",
    "- **lastIndexOf(String str)**: Retorna la posición de la última ocurrencia de *str* en la cadena de caracteres.\n",
    "- **substring(int beginIndex, endIndex)**: Retorna una subcadena de la cadena de caracteres desde la posición *beginIndex* hasta el final.\n",
    "- **startsWith(String str)**: Retorna *true* si la cadena de caracteres comienza con *str*.\n",
    "- **endsWith(String str)**: Retorna *true* si la cadena de caracteres termina con *str*.\n",
    "- **contains(String str)**: Retorna *true* si la cadena de caracteres contiene *str*.\n",
    "- **replace(char oldChar, char newChar)**: Retorna una cadena de caracteres reemplazando *oldChar* por *newChar*.\n",
    "- **trim()**: Retorna una cadena de caracteres sin espacios en blanco al inicio y al final.\n",
    "- **toUpperCase()**: Retorna una cadena de caracteres en mayúsculas.\n",
    "- **toLowerCase()**: Retorna una cadena de caracteres en minúsculas."
   ]
  },
  {
   "cell_type": "markdown",
   "metadata": {},
   "source": [
    "# Colaboración entre objetos\n",
    "\n",
    "La colaboración entre objetos es una de las características más importantes de la programación orientada a objetos. La colaboración entre objetos se da cuando un objeto necesita de otro objeto para realizar una tarea. Por ejemplo, en el siguiente programa, la clase **Main** crea un objeto de la clase **Persona** y luego llama al método *saludar()* del objeto creado.\n",
    "\n"
   ]
  },
  {
   "cell_type": "code",
   "execution_count": 42,
   "metadata": {
    "vscode": {
     "languageId": "java"
    }
   },
   "outputs": [],
   "source": [
    "public class Cancion{\n",
    "\n",
    "    private int duracion;\n",
    "\n",
    "    public Cancion(int duracion){\n",
    "        this.duracion = duracion;\n",
    "    }\n",
    "\n",
    "    public int getDuracion(){\n",
    "        return duracion;\n",
    "    }\n",
    "\n",
    "    public void setDuracion(int duracion){\n",
    "        this.duracion = duracion;\n",
    "    }\n",
    "\n",
    "    public void reproducir(){\n",
    "        System.out.println(\"Reproduciendo cancion\");\n",
    "    }\n",
    "\n",
    "    public String toString(){\n",
    "        return \"Duracion: \" + duracion;\n",
    "    }\n",
    "}"
   ]
  },
  {
   "cell_type": "code",
   "execution_count": 43,
   "metadata": {
    "vscode": {
     "languageId": "java"
    }
   },
   "outputs": [],
   "source": [
    "public class Streaming{\n",
    "\n",
    "    private Cancion cancionEnReproduccion;\n",
    "    private int segundoActual;\n",
    "\n",
    "    public Streaming(){\n",
    "        this.cancionEnReproduccion = null;\n",
    "        this.segundoActual = 0;\n",
    "    }\n",
    "\n",
    "    public Cancion getCancionEnReproduccion(){\n",
    "        return cancionEnReproduccion;\n",
    "    }\n",
    "\n",
    "    public void setCancionEnReproduccion(Cancion cancionEnReproduccion){\n",
    "        this.cancionEnReproduccion = cancionEnReproduccion;\n",
    "    }\n",
    "\n",
    "    public int getSegundoActual(){\n",
    "        return segundoActual;\n",
    "    }\n",
    "\n",
    "    public void setSegundoActual(int segundoActual){\n",
    "        this.segundoActual = segundoActual;\n",
    "    }\n",
    "\n",
    "    public int avanzar(int segundos){\n",
    "        int segundosPorReproducir = cancionEnReproduccion.getDuracion() - segundoActual;\n",
    "        segundoActual = segundoActual + segundos;\n",
    "        return segundoActual;\n",
    "    }\n",
    "}"
   ]
  },
  {
   "cell_type": "code",
   "execution_count": 48,
   "metadata": {
    "vscode": {
     "languageId": "java"
    }
   },
   "outputs": [
    {
     "name": "stdout",
     "output_type": "stream",
     "text": [
      "Duracion: 120\n",
      "Reproduciendo cancion\n",
      "10\n"
     ]
    }
   ],
   "source": [
    "\n",
    "Cancion cancion = new Cancion(120);\n",
    "System.out.println(cancion.toString());\n",
    "cancion.reproducir();\n",
    "Streaming streaming = new Streaming();\n",
    "streaming.setCancionEnReproduccion(cancion);\n",
    "System.out.println(streaming.avanzar(10));"
   ]
  }
 ],
 "metadata": {
  "kernelspec": {
   "display_name": "Java",
   "language": "java",
   "name": "java"
  },
  "language_info": {
   "codemirror_mode": "java",
   "file_extension": ".jshell",
   "mimetype": "text/x-java-source",
   "name": "Java",
   "pygments_lexer": "java",
   "version": "20.0.2+9-78"
  },
  "orig_nbformat": 4
 },
 "nbformat": 4,
 "nbformat_minor": 2
}
