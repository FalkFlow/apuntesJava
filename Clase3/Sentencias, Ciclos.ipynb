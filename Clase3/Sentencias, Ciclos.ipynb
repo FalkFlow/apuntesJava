{
 "cells": [
  {
   "cell_type": "markdown",
   "metadata": {},
   "source": [
    "# Modificadores de acceso\n",
    "\n",
    "Existen modificadores de acceso que nos permiten restringir el acceso a los atributos y métodos de una clase. Estos modificadores son:\n",
    "\n",
    "- **public**: Se puede acceder desde cualquier parte.\n",
    "- **protected**: Se puede acceder desde la clase que lo define y desde las clases que heredan de ella.\n",
    "- **private**: Solo se puede acceder desde la clase que lo define.\n",
    "- **default**: Se puede acceder desde la clase que lo define y desde las clases del mismo paquete.\n",
    "- **static**: Se puede acceder sin necesidad de instanciar la clase.\n",
    "\n",
    "|Accesibilidad  |public |protected  |private    |default    |static |\n",
    "|---------------|-------|-----------|-----------|-----------|-------|\n",
    "|Desde la misma clase |Si     |Si         |Si         |Si         |Si     |\n",
    "|Desde otra clase del mismo paquete |Si     |Si         |No         |Si         |Si     |\n",
    "|Desde otra clase de otro paquete |Si     |Si(con herencia)         |No         |No         |Si     |\n",
    "|Desde otra clase de otro paquete |Si     |No         |No         |No         |Si     |"
   ]
  },
  {
   "cell_type": "markdown",
   "metadata": {},
   "source": [
    "# Sentencias, Ciclos\n",
    "\n",
    "En java las instrucciones se ejecutan en orden, de la primera linea hasta el final. Sin embargo, existen sentencias que nos permiten alterar el flujo de ejecución de las instrucciones. Estas sentencias son:\n",
    "\n",
    "- **Sentencias de desición**\n",
    "  - **if**: Nos permite ejecutar un bloque de código si se cumple una condición.\n",
    "  - **if-else**: Nos permite ejecutar un bloque de código si se cumple una condición y otro bloque de código si no se cumple.\n",
    "  - **switch**: Nos permite ejecutar un bloque de código dependiendo del valor de una variable.\n",
    "\n",
    "- **Sentencias de iteración**\n",
    "  - **while**: Nos permite ejecutar un bloque de código mientras se cumpla una condición.\n",
    "  - **do-while**: Nos permite ejecutar un bloque de código mientras se cumpla una condición, pero se ejecuta al menos una vez.\n",
    "  - **for**: Nos permite ejecutar un bloque de código mientras se cumpla una condición, pero se ejecuta al menos una vez.\n",
    "\n",
    "## Sentencias de desición\n",
    "\n",
    "Son sentencias que nos permiten tomar una desición para poder ejecutar un bloque de código u otro."
   ]
  },
  {
   "cell_type": "code",
   "execution_count": 3,
   "metadata": {
    "vscode": {
     "languageId": "java"
    }
   },
   "outputs": [
    {
     "name": "stdout",
     "output_type": "stream",
     "text": [
      "a es mayor que b\n"
     ]
    }
   ],
   "source": [
    "// ejemplo estructura if\n",
    "\n",
    "/*\n",
    "* if(condicion){\n",
    "    codigo\n",
    "}else{\n",
    "    codigo\n",
    "}\n",
    "*/\n",
    "\n",
    "// ejemplo if tratar de cambiar valor de a y b\n",
    "\n",
    "int a = 30;\n",
    "int b = 20;\n",
    "\n",
    "if(a > b){\n",
    "    System.out.println(\"a es mayor que b\");\n",
    "}else{\n",
    "    System.out.println(\"a es menor que b\");\n",
    "}"
   ]
  },
  {
   "cell_type": "code",
   "execution_count": 5,
   "metadata": {
    "vscode": {
     "languageId": "java"
    }
   },
   "outputs": [
    {
     "name": "stdout",
     "output_type": "stream",
     "text": [
      "Hoy es martes\n"
     ]
    }
   ],
   "source": [
    "// ejemplo estrctura else if\n",
    "\n",
    "String dia = \"martes\";\n",
    "\n",
    "if (dia == \"lunes\"){\n",
    "    System.out.println(\"Hoy es lunes\");\n",
    "}else if(dia == \"martes\"){\n",
    "    System.out.println(\"Hoy es martes\");\n",
    "}else if(dia == \"miercoles\"){\n",
    "    System.out.println(\"Hoy es miercoles\");\n",
    "}else{\n",
    "    System.out.println(\"Hoy es otro dia\");\n",
    "}"
   ]
  },
  {
   "cell_type": "markdown",
   "metadata": {},
   "source": [
    "se puede usar operadores de relación y operadores lógicos para evaluar condiciones.\n",
    "\n",
    "```java\n",
    "if (condicion || condicion) { // los operadores lógicos son ||, &&, !. ==, !=, <, >, <=, >=\n",
    "  // Bloque de código\n",
    "}\n",
    "```\n"
   ]
  },
  {
   "cell_type": "markdown",
   "metadata": {},
   "source": [
    " Que sucede cuando tenemos multiplos cosas en ese tipo de sentencias, por ejemplo, si queremos evaluar por ejemplo si una variable es igual a 1, 2, 3, 4, como las opciones de menú, en ese caso usamos la sentencia switch."
   ]
  },
  {
   "cell_type": "code",
   "execution_count": 8,
   "metadata": {
    "vscode": {
     "languageId": "java"
    }
   },
   "outputs": [
    {
     "name": "stdout",
     "output_type": "stream",
     "text": [
      "Segundo\n"
     ]
    }
   ],
   "source": [
    "int opcion = 2;\n",
    "String Curso = \"\";\n",
    "switch (opcion) {\n",
    "    case 1:\n",
    "        Curso = \"Primero\";\n",
    "        break;\n",
    "    case 2:\n",
    "        Curso = \"Segundo\";\n",
    "        break;\n",
    "    default:\n",
    "        Curso = \"Otro\";\n",
    "        break;\n",
    "}\n",
    "System.out.println(Curso);"
   ]
  },
  {
   "cell_type": "markdown",
   "metadata": {},
   "source": [
    " Su estructura es la siguiente:\n",
    "\n",
    "```java\n",
    "switch (variable) {\n",
    "  case 1:\n",
    "    // Bloque de código\n",
    "    break;\n",
    "  case 2:\n",
    "    // Bloque de código\n",
    "    break;\n",
    "  case 3:\n",
    "    // Bloque de código\n",
    "    break;\n",
    "  default:\n",
    "    // Bloque de código\n",
    "    break;\n",
    "}\n",
    "```\n"
   ]
  },
  {
   "cell_type": "markdown",
   "metadata": {},
   "source": [
    "en el caso de switch entrara en el bloque de código que coincida con el valor de la variable, si no coincide con ninguno de los casos, entrara en el bloque de código default."
   ]
  },
  {
   "cell_type": "markdown",
   "metadata": {},
   "source": [
    "# Ciclos\n",
    "\n",
    "Los ciclos nos permiten ejecutar un bloque de código varias veces, mientras se cumpla una condición.\n",
    "\n",
    "## Ciclo while\n",
    "\n",
    "El ciclo while nos permite ejecutar un bloque de código mientras se cumpla una condición.\n",
    "\n",
    "```java\n",
    "while (condicion) { //se repite mientras la condicion sea verdadera\n",
    "  // Bloque de código\n",
    "}\n",
    "```\n",
    "\n",
    "## Ciclo do-while\n",
    "\n",
    "El ciclo do-while nos permite ejecutar un bloque de código mientras se cumpla una condición, pero se ejecuta al menos una vez.\n",
    "\n",
    "```java\n",
    "do {\n",
    "  // Bloque de código\n",
    "} while (condicion);// si la condicion es verdadera se repite el ciclo\n",
    "```\n",
    "\n",
    "## Ciclo for\n",
    "\n",
    "El ciclo for nos permite ejecutar un bloque de código mientras se cumpla una condición, pero se ejecuta al menos una vez.\n",
    "\n",
    "```java\n",
    "for (inicialización; condición; incremento) {//se ejecuta mientras la condicion sea verdadera\n",
    "  // Bloque de código\n",
    "}\n",
    "```"
   ]
  },
  {
   "cell_type": "code",
   "execution_count": 9,
   "metadata": {
    "vscode": {
     "languageId": "java"
    }
   },
   "outputs": [
    {
     "name": "stdout",
     "output_type": "stream",
     "text": [
      "0\n",
      "1\n",
      "2\n",
      "3\n",
      "4\n",
      "5\n",
      "6\n",
      "7\n",
      "8\n",
      "9\n"
     ]
    }
   ],
   "source": [
    "// while \n",
    "// traten de cambiar el valor de i a 10\n",
    "int i = 0;\n",
    "while(i < 10){\n",
    "    System.out.println(i);\n",
    "    i++;\n",
    "}"
   ]
  },
  {
   "cell_type": "code",
   "execution_count": 11,
   "metadata": {
    "vscode": {
     "languageId": "java"
    }
   },
   "outputs": [
    {
     "name": "stdout",
     "output_type": "stream",
     "text": [
      "10\n"
     ]
    }
   ],
   "source": [
    "// do while\n",
    "\n",
    "int i = 10;\n",
    "do{\n",
    "    System.out.println(i);\n",
    "    i++;\n",
    "}while(i < 10);"
   ]
  },
  {
   "cell_type": "code",
   "execution_count": 12,
   "metadata": {
    "vscode": {
     "languageId": "java"
    }
   },
   "outputs": [
    {
     "name": "stdout",
     "output_type": "stream",
     "text": [
      "0\n",
      "1\n",
      "2\n",
      "3\n",
      "4\n",
      "5\n",
      "6\n",
      "7\n",
      "8\n",
      "9\n"
     ]
    }
   ],
   "source": [
    "// for\n",
    "\n",
    "for(int i = 0; i < 10; i++){\n",
    "    System.out.println(i);\n",
    "}"
   ]
  }
 ],
 "metadata": {
  "kernelspec": {
   "display_name": "Java",
   "language": "java",
   "name": "java"
  },
  "language_info": {
   "codemirror_mode": "java",
   "file_extension": ".jshell",
   "mimetype": "text/x-java-source",
   "name": "Java",
   "pygments_lexer": "java",
   "version": "20.0.2+9-78"
  },
  "orig_nbformat": 4
 },
 "nbformat": 4,
 "nbformat_minor": 2
}
