{
 "cells": [
  {
   "cell_type": "markdown",
   "metadata": {},
   "source": [
    "# Interfaces Graficas\n",
    "\n",
    "## GUI\n",
    "¿Que es una GUI? Es una interfaz grafica de usuario, es decir, una forma de interactuar con el usuario a traves de elementos graficos como botones, ventanas, etc.\n",
    "\n",
    "**Swing** es una libreria de Java que nos permite crear interfaces graficas de usuario. Es la evolución del **AWT (Abstract Window Toolkit)**, a diferencia de esta **Swing** nos permite crear GUI'S con una apariencia visual uniforme para una aplicación para todas sus plataformas, además son mas portables, flexibles y ligeras."
   ]
  },
  {
   "cell_type": "markdown",
   "metadata": {},
   "source": [
    "## Elementos Básicos\n",
    "- **Componentes:** Permiten al usuario interactuar con la aplicación. Ejemplos de estos son: botones, etiquetas, cajas de texto y listas, entre otros.\n",
    "- **Contenedores:** Sirven para contener y organizar otros componentes. Ejemplos de estos son: ventanas, paneles, etc."
   ]
  },
  {
   "cell_type": "markdown",
   "metadata": {},
   "source": [
    "## Contenedores\n",
    "\n",
    "Configurar  el contenedor \n",
    "\n",
    "**Jframe**: Representa una ventana básica, capaz de contener otros componentes.\n",
    "\n",
    "**Propiedades**\n",
    "- **defaultCloseOperation**: EXIT_ON_CLOSE: Termina la aplicación. DISPOSE: Cierra sólo la ventana\n",
    "- **Title**: Título de la ventana"
   ]
  },
  {
   "cell_type": "markdown",
   "metadata": {},
   "source": [
    "**JPanel**: Un panel sirve para agrupar y organizar otros componentes. Puede estar decorado mediante un borde y una etiqueta.\n",
    "\n",
    "**Propiedades**\n",
    "- **Border**: Borde del panel. Puede ser: TitledBorder, EtchedBorder, BevelBorder, LineBorder, MatteBorder, SoftBevelBorder, EmptyBorder\n",
    "- **background**: Color de fondo del panel"
   ]
  },
  {
   "cell_type": "markdown",
   "metadata": {},
   "source": [
    "## Componentes\n",
    "\n",
    "**Añadir componentes a los Contenedores**\n",
    "\n",
    "Las interfaces gráficas de usuario se construyen con componentes, cada uno de los cuales está preparado para responder a distintos tipos de eventos.\n",
    "- **JLabel**: Muestra un texto o una imagen.\n",
    "- **JTExtField**: Permite al usuario introducir texto.\n",
    "- **JTExtArea**: Permite al usuario introducir texto en varias líneas.\n",
    "- **JButton**: Botón que puede ser pulsado por el usuario.\n",
    "- **JCheckBox**: Casilla de verificación que puede ser marcada o desmarcada por el usuario.\n",
    "- **JRadioButton**: Botón de opción que puede ser seleccionado por el usuario.\n",
    "- **JComboox**: Lista desplegable que permite al usuario seleccionar una opción.\n",
    "- **JMEnuBar**: Barra de menú que contiene opciones de menú.\n",
    "- **JMenu**: Opción de menú que puede ser seleccionada por el usuario.\n",
    "- **JMenuItem**: Opción de menú que puede ser seleccionada por el usuario.\n",
    "- **JOptonPane**: Ventana de diálogo que muestra un mensaje y permite al usuario elegir una opción.\n",
    "\n",
    "Todos estos tienen metodos en comuno no todos pero si la mayoria. \n",
    "- **getText()**: Devuelve el texto del componente.\n",
    "- **setText()**: Establece el texto del componente.\n",
    "- **setEnabled()**: Habilita o deshabilita el componente.\n",
    "- **isVisible()**: Devuelve true si el componente es visible.\n",
    "- **setVisible()**: Establece la visibilidad del componente.\n",
    "- **isSelected()**: Devuelve true si el componente está seleccionado.\n",
    "- **setSelected()**: Establece si el componente está seleccionado.\n",
    "- **getSelectedItem()**: Devuelve el elemento seleccionado en el componente.\n",
    "- **getSelectedIndex()**: Devuelve el índice del elemento seleccionado en el componente.\n",
    "- **setSelectedItem()**: Establece el elemento seleccionado en el componente.\n",
    "- **setSelectedIndex()**: Establece el índice del elemento seleccionado en el componente."
   ]
  },
  {
   "cell_type": "markdown",
   "metadata": {},
   "source": [
    "## Eventos\n",
    "\n",
    "**Manejando Eventos** \n",
    "\n",
    "Cada vez que el usuario pulsa una tecla, un botón, mueve el mouse, entre otras, se produce un evento. Es posible notificar los eventos para que el programa actúe en consecuencia. Para ello, se crean unos objetos llamados **listeners** que capturan el evento realizado."
   ]
  },
  {
   "cell_type": "markdown",
   "metadata": {},
   "source": [
    "<img src=\"eventos1.png\">"
   ]
  },
  {
   "cell_type": "markdown",
   "metadata": {},
   "source": [
    "<img src=\"eventos2.png\">"
   ]
  },
  {
   "cell_type": "markdown",
   "metadata": {},
   "source": [
    "<img src=\"eventos3.png\">"
   ]
  }
 ],
 "metadata": {
  "kernelspec": {
   "display_name": "Java",
   "language": "java",
   "name": "java"
  },
  "language_info": {
   "name": "java"
  }
 },
 "nbformat": 4,
 "nbformat_minor": 2
}
