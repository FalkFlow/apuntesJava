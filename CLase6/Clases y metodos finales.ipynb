{
 "cells": [
  {
   "cell_type": "markdown",
   "metadata": {},
   "source": [
    "# Clases de metodos final\n",
    "\n",
    "Las variables pueden declararse como final para indicar que no pueden **modificarse** una vez que se inicializan, es decir, representan valores constantes.\n",
    "\n",
    "Un método que se declara como final en una superclase no pueden sobreescribirse en una subclase. Este método no puede cambiar. en pocas palabras una vez que se declara un método como final, no se puede sobrescribir. Por ende el metodo no puede ser heredado.\n",
    "\n",
    "Lo mismo ocurre con las clases finales no pueden ser superclases de otras clases. Es decir, no se pueden heredar."
   ]
  },
  {
   "cell_type": "code",
   "execution_count": 1,
   "metadata": {
    "vscode": {
     "languageId": "java"
    }
   },
   "outputs": [],
   "source": [
    "public final class Animal{\n",
    "    \n",
    "}"
   ]
  },
  {
   "cell_type": "code",
   "execution_count": 2,
   "metadata": {
    "vscode": {
     "languageId": "java"
    }
   },
   "outputs": [
    {
     "ename": "CompilationException",
     "evalue": "",
     "output_type": "error",
     "traceback": [
      "\u001b[1m\u001b[30m|   \u001b[1m\u001b[30mpublic class Peza extends \u001b[0m\u001b[1m\u001b[30m\u001b[41mAnimal\u001b[0m\u001b[1m\u001b[30m{\u001b[0m",
      "\u001b[1m\u001b[31mcannot inherit from final Animal\u001b[0m",
      ""
     ]
    }
   ],
   "source": [
    "public class Peza extends Animal{\n",
    "    \n",
    "}"
   ]
  },
  {
   "cell_type": "markdown",
   "metadata": {},
   "source": [
    "al momento de heredar una clase final, se obtiene un error de compilación."
   ]
  },
  {
   "cell_type": "code",
   "execution_count": 3,
   "metadata": {
    "vscode": {
     "languageId": "java"
    }
   },
   "outputs": [],
   "source": [
    "public class Perro{\n",
    "    public final void ladrar(){\n",
    "        System.out.println(\"Guau\");\n",
    "    }\n",
    "}"
   ]
  },
  {
   "cell_type": "code",
   "execution_count": 4,
   "metadata": {
    "vscode": {
     "languageId": "java"
    }
   },
   "outputs": [
    {
     "ename": "CompilationException",
     "evalue": "",
     "output_type": "error",
     "traceback": [
      "\u001b[1m\u001b[30m|   \u001b[1m\u001b[30m    \u001b[0m\u001b[1m\u001b[30m\u001b[41mpublic void ladrar(){\u001b[0m",
      "\u001b[1m\u001b[30m|   \u001b[1m\u001b[30m\u001b[41m        System.out.println(\"Guau Guau\");\u001b[0m",
      "\u001b[1m\u001b[30m|   \u001b[1m\u001b[30m\u001b[41m    }\u001b[0m",
      "\u001b[1m\u001b[31mladrar() in Chihuahua cannot override ladrar() in Perro\u001b[0m",
      "\u001b[1m\u001b[31m  overridden method is final\u001b[0m",
      ""
     ]
    }
   ],
   "source": [
    "public class Chihuahua extends Perro{\n",
    "    public void ladrar(){\n",
    "        System.out.println(\"Guau Guau\");\n",
    "    }\n",
    "}"
   ]
  },
  {
   "cell_type": "markdown",
   "metadata": {},
   "source": [
    "Lo mismo ocurre cuando se trata de sobreescribir un método final, se obtiene un error de compilación."
   ]
  }
 ],
 "metadata": {
  "kernelspec": {
   "display_name": "Java",
   "language": "java",
   "name": "java"
  },
  "language_info": {
   "codemirror_mode": "java",
   "file_extension": ".jshell",
   "mimetype": "text/x-java-source",
   "name": "Java",
   "pygments_lexer": "java",
   "version": "20.0.2+9-78"
  },
  "orig_nbformat": 4
 },
 "nbformat": 4,
 "nbformat_minor": 2
}
