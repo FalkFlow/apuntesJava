{
 "cells": [
  {
   "cell_type": "markdown",
   "metadata": {},
   "source": [
    "# Problema\n",
    "\n",
    "Realizaremos el problema que esta en el AVA para que vean que funciona"
   ]
  },
  {
   "cell_type": "markdown",
   "metadata": {},
   "source": [
    "Se genera primero la `clase Puesto` pues no hay ninguna clase que dependa de ello"
   ]
  },
  {
   "cell_type": "code",
   "execution_count": 2,
   "metadata": {
    "vscode": {
     "languageId": "java"
    }
   },
   "outputs": [],
   "source": [
    "public class Puesto{\n",
    "\n",
    "    private int codigo;\n",
    "    private String nombrePuesto;\n",
    "\n",
    "    public Puesto(){\n",
    "\n",
    "    }\n",
    "\n",
    "    public Puesto(int codigo, String nombrePuesto){\n",
    "        this.codigo = codigo;\n",
    "        this.nombrePuesto = nombrePuesto;\n",
    "    }\n",
    "\n",
    "    public int getCodigo(){\n",
    "        return codigo;\n",
    "    }\n",
    "\n",
    "    public void setCodigo(int codigo){\n",
    "        this.codigo = codigo;\n",
    "    }\n",
    "\n",
    "    public String getNombrePuesto(){\n",
    "        return nombrePuesto;\n",
    "    }\n",
    "\n",
    "    public void setNombrePuesto(String nombrePuesto){\n",
    "        this.nombrePuesto = nombrePuesto;\n",
    "    }\n",
    "\n",
    "    @Override\n",
    "    public String toString(){\n",
    "        return \"Puesto [codigo=\" + codigo + \", nombrePuesto=\" + nombrePuesto + \"]\";\n",
    "    }\n",
    "}"
   ]
  },
  {
   "cell_type": "markdown",
   "metadata": {},
   "source": [
    "Ahora se genera la `Clase Empleado` ya que esta necesita de la `clase Puesto` "
   ]
  },
  {
   "cell_type": "code",
   "execution_count": 3,
   "metadata": {
    "vscode": {
     "languageId": "java"
    }
   },
   "outputs": [],
   "source": [
    "public class Empleado{\n",
    "\n",
    "    private String rut, nombreEmpleado;\n",
    "    private char genero;\n",
    "    private int acno, edad;\n",
    "    private Puesto puesto;\n",
    "\n",
    "    public Empleado(){\n",
    "\n",
    "    }\n",
    "\n",
    "    public Empleado(String rut, String nombreEmpleado, char genero, int acno, int edad, Puesto puesto){\n",
    "        this.rut = rut;\n",
    "        this.nombreEmpleado = nombreEmpleado;\n",
    "        this.genero = genero;\n",
    "        this.acno = acno;\n",
    "        this.edad = edad;\n",
    "        this.puesto = puesto;\n",
    "    }\n",
    "\n",
    "    public String getRut(){\n",
    "        return rut;\n",
    "    }\n",
    "\n",
    "    public void setRut(String rut){\n",
    "        this.rut = rut;\n",
    "    }\n",
    "\n",
    "    public String getNombreEmpleado(){\n",
    "        return nombreEmpleado;\n",
    "    }\n",
    "\n",
    "    public void setNombreEmpleado(String nombreEmpleado){\n",
    "        this.nombreEmpleado = nombreEmpleado;\n",
    "    }\n",
    "\n",
    "    public char getGenero(){\n",
    "        return genero;\n",
    "    }\n",
    "\n",
    "    public void setGenero(char genero){\n",
    "        this.genero = genero;\n",
    "    }\n",
    "\n",
    "    public int getAcno(){\n",
    "        return acno;\n",
    "    }\n",
    "\n",
    "    public void setAcno(int acno){\n",
    "        this.acno = acno;\n",
    "    }\n",
    "\n",
    "    public int getEdad(){\n",
    "        return edad;\n",
    "    }\n",
    "\n",
    "    public void setEdad(int edad){\n",
    "        this.edad = edad;\n",
    "    }\n",
    "\n",
    "    public Puesto getPuesto(){\n",
    "        return puesto;\n",
    "    }\n",
    "\n",
    "    public void setPuesto(Puesto puesto){\n",
    "        this.puesto = puesto;\n",
    "    }\n",
    "\n",
    "    @Override\n",
    "    public String toString(){\n",
    "        return \"Empleado [acno=\" + acno + \", edad=\" + edad + \", genero=\" + genero + \", nombreEmpleado=\" + nombreEmpleado\n",
    "                + \", puesto=\" + puesto + \", rut=\" + rut + \"]\";\n",
    "    }\n",
    "}"
   ]
  },
  {
   "cell_type": "markdown",
   "metadata": {},
   "source": [
    "Ahora se genera la `clase Empresa` ya que esta depende de `Empleado` "
   ]
  },
  {
   "cell_type": "code",
   "execution_count": 7,
   "metadata": {
    "vscode": {
     "languageId": "java"
    }
   },
   "outputs": [],
   "source": [
    "public class Empresa{\n",
    "\n",
    "    private ArrayList<Empleado> empleados;\n",
    "\n",
    "    public Empresa(){\n",
    "        empleados = new ArrayList<Empleado>();\n",
    "    }\n",
    "\n",
    "    public boolean agregar(Empleado empleado){\n",
    "        return empleados.add(empleado);\n",
    "    }\n",
    "\n",
    "    public boolean buscarEmpleado(String rut){\n",
    "        for (Empleado empleado : empleados) {\n",
    "            if (empleado.getRut().equals(rut)) {\n",
    "                return true;\n",
    "            }\n",
    "        }\n",
    "        return false;\n",
    "    }\n",
    "\n",
    "    public void listarEmpleados(){\n",
    "        for (Empleado empleado : empleados) {\n",
    "            System.out.println(empleado.toString());\n",
    "        }\n",
    "    }\n",
    "\n",
    "    public boolean eliminarEmpleado(String rut){\n",
    "        for (Empleado empleado : empleados) {\n",
    "            if (empleado.getRut().equals(rut)) {\n",
    "                empleados.remove(empleado);\n",
    "                return true;\n",
    "            }\n",
    "        }\n",
    "        return false;\n",
    "    }\n",
    "}"
   ]
  },
  {
   "cell_type": "markdown",
   "metadata": {},
   "source": [
    "Ahora probaremos que lo anterior funciona como corresponda."
   ]
  },
  {
   "cell_type": "code",
   "execution_count": 9,
   "metadata": {
    "vscode": {
     "languageId": "java"
    }
   },
   "outputs": [
    {
     "name": "stdout",
     "output_type": "stream",
     "text": [
      "Empleado agregado Juanito\n",
      "Empleado [acno=2010, edad=30, genero=M, nombreEmpleado=Juanito, puesto=Puesto [codigo=1, nombrePuesto=Gerente], rut=12345678-9]\n",
      "No se elimino el empleado Juanito\n",
      "Empleado [acno=2010, edad=30, genero=M, nombreEmpleado=Juanito, puesto=Puesto [codigo=1, nombrePuesto=Gerente], rut=12345678-9]\n"
     ]
    }
   ],
   "source": [
    "Puesto pueston = new Puesto(1, \"Gerente\");\n",
    "Puesto puestito = new Puesto(2, \"Jefe\");\n",
    "\n",
    "Empleado empleado1 = new Empleado(\"12345678-9\", \"Juanito\", 'M', 2010, 30, pueston);\n",
    "Empleado empleado2 = new Empleado(\"98765432-1\", \"Pepito\", 'M', 2015, 25, puestito);\n",
    "\n",
    "Empresa empresa = new Empresa();\n",
    "\n",
    "if(empresa.buscarEmpleado(\"12345678-9\") == false){\n",
    "    empresa.agregar(empleado1);\n",
    "    System.out.println(\"Empleado agregado \" + empleado1.getNombreEmpleado());\n",
    "}else{\n",
    "    System.out.println(\"Empleado ya existe\");\n",
    "}\n",
    "\n",
    "empresa.listarEmpleados();\n",
    "\n",
    "if (empresa.eliminarEmpleado(\"98765432-1\")) {\n",
    "    System.out.println(\"Empleado eliminado \" + empleado1.getNombreEmpleado());\n",
    "}else{\n",
    "    System.out.println(\"No se elimino el empleado \" + empleado1.getNombreEmpleado());\n",
    "}\n",
    "\n",
    "empresa.listarEmpleados();"
   ]
  },
  {
   "cell_type": "markdown",
   "metadata": {},
   "source": [
    "# Funciona"
   ]
  }
 ],
 "metadata": {
  "kernelspec": {
   "display_name": "Java",
   "language": "java",
   "name": "java"
  },
  "language_info": {
   "codemirror_mode": "java",
   "file_extension": ".jshell",
   "mimetype": "text/x-java-source",
   "name": "Java",
   "pygments_lexer": "java",
   "version": "20.0.2+9-78"
  },
  "orig_nbformat": 4
 },
 "nbformat": 4,
 "nbformat_minor": 2
}
