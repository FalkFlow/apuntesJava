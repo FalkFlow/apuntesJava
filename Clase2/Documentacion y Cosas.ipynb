{
 "cells": [
  {
   "cell_type": "markdown",
   "metadata": {},
   "source": [
    "# Documentación En Java\n",
    "\n",
    "Hay distintas maneras de documentar en java veremos las que hay y como se usan, además de para que sirven.\n",
    "\n",
    "## Comentarios En El Código"
   ]
  },
  {
   "cell_type": "code",
   "execution_count": 27,
   "metadata": {
    "vscode": {
     "languageId": "java"
    }
   },
   "outputs": [
    {
     "ename": "CompilationException",
     "evalue": "",
     "output_type": "error",
     "traceback": [
      "\u001b[1m\u001b[30m|   \u001b[1m\u001b[30msi escribes\u001b[0m\u001b[1m\u001b[30m\u001b[41m\u001b[0m\u001b[1m\u001b[30m otra son el doble slash se consederara como una variable por ende al ejecutar generara error;\u001b[0m",
      "\u001b[1m\u001b[31m';' expected\u001b[0m",
      ""
     ]
    }
   ],
   "source": [
    "// este es un comentario de una linea\n",
    "\n",
    "si escribes otra son el doble slash se consederara como una variable por ende al ejecutar generara error"
   ]
  },
  {
   "cell_type": "markdown",
   "metadata": {},
   "source": [
    "El anterior era un comentario de una linea al ingresar una segunda esta genera un error, para generar un comentario de mas de una linea se debe ocupar el siguiente formato:\n",
    "\n",
    "```java\n",
    "/*\n",
    "    Este es un comentario de mas de una linea\n",
    "    y se puede escribir lo que sea\n",
    "*/\n",
    "```"
   ]
  },
  {
   "cell_type": "markdown",
   "metadata": {},
   "source": [
    "Hemos visto estos comentarios que quedan en el codigo pero no se ven en la ejecución, pero hay otros que si se ven en la ejecución, estos son los comentarios de documentación."
   ]
  },
  {
   "cell_type": "markdown",
   "metadata": {},
   "source": [
    "# JavaDoc\n",
    "\n",
    "Los comentarios de documentación, también conocidos como Javadoc, son un tipo especial de comentario en Java que permite generar automáticamente documentación en formato HTML para clases, interfaces, métodos y variables. Estos comentarios comienzan con /** y terminan con */.\n",
    "\n",
    "Javadoc utiliza etiquetas especiales, también conocidas como tags, para proporcionar información estructurada sobre el código.\n",
    "\n",
    "## Etiquetas De Javadoc\n",
    "\n",
    "\n",
    "- @author: Indica el autor del código.\n",
    "- @version: Especifica la versión del código.\n",
    "- @param: Describe un parámetro de un método.\n",
    "- @return: Describe el valor de retorno de un método.\n",
    "- @throws o @exception: Indica las excepciones que puede lanzar un método.\n",
    "- @see: Proporciona una referencia a otra clase, método o campo relacionado.\n",
    "- @since: Indica la versión en la que se introdujo el elemento.\n",
    "- @deprecated: Marca el elemento como obsoleto y sugiere una alternativa.\n",
    "\n",
    "Estos son Algunos de los tags que se pueden usar en Javadoc, pero hay muchos mas. Veremos un pequeño ejemplo.\n"
   ]
  },
  {
   "cell_type": "code",
   "execution_count": 13,
   "metadata": {
    "vscode": {
     "languageId": "java"
    }
   },
   "outputs": [],
   "source": [
    "/**\n",
    " * Clase Calculadora que implementa las operaciones basicas suma y resta\n",
    " * <p>\n",
    " * Esta clase permite realizar operaciones de suma y resta con valores enteros.\n",
    " * </p>\n",
    " */\n",
    "public class Calculadora{\n",
    "    /**\n",
    "     * Suma dos numeros enteros\n",
    "     * @param a primer numero a sumar\n",
    "     * @param b segundo numero a sumar\n",
    "     * @return la suma de los dos numeros\n",
    "     */\n",
    "    public static int sumar(int a, int b){\n",
    "        return a + b;\n",
    "    }\n",
    "    /**\n",
    "     * Resta dos numeros enteros\n",
    "     * @param a primer numero a restar\n",
    "     * @param b segundo numero a restar\n",
    "     * @return la resta de los dos numeros\n",
    "     */\n",
    "    public static int restar(int a, int b){\n",
    "        return a - b;\n",
    "    }\n",
    "}"
   ]
  },
  {
   "cell_type": "code",
   "execution_count": 14,
   "metadata": {
    "vscode": {
     "languageId": "java"
    }
   },
   "outputs": [
    {
     "name": "stdout",
     "output_type": "stream",
     "text": [
      "3\n"
     ]
    }
   ],
   "source": [
    "System.out.println(Calculadora.sumar(1,2));"
   ]
  },
  {
   "cell_type": "markdown",
   "metadata": {},
   "source": [
    "Para generar la documentación HTML utilizando Javadoc, se debe ejecutar el siguiente comando en la línea de comandos, reemplazando “ruta_del_codigo” por la ruta donde se encuentran los archivos de código fuente:\n",
    "\n",
    "```bash\n",
    "javadoc -d docs ruta_del_codigo\n",
    "```\n",
    "\n",
    "Este comando generará la documentación HTML en la carpeta docs. Para ver la documentación, se debe abrir el archivo index.html que se encuentra dentro de la carpeta docs.\n",
    "\n",
    "Reemplazar “ruta_del_codigo” por la ruta donde se encuentran los archivos de código fuente."
   ]
  },
  {
   "cell_type": "markdown",
   "metadata": {},
   "source": [
    "# Convenciones De Nombres\n",
    "\n",
    "## Convenciones de Clase\n",
    "\n",
    "Todos los nombres de clases empiezan con letra mayúscula, si el nombre de la clase esta compuesto por mas de una palabra, la primera letra de cada palabra debe ser mayúscula.\n",
    "\n",
    "```java\n",
    "public class MiClase {\n",
    "    // ...\n",
    "}\n",
    "```\n",
    "\n",
    "## Convenciones de Métodos\n",
    "\n",
    "Todos los nombres de métodos empiezan con letra minúscula, si el nombre del método esta compuesto por mas de una palabra, la primera letra de cada palabra debe ser mayúscula.\n",
    "\n",
    "```java\n",
    "public void miMetodo() {\n",
    "    // ...\n",
    "}\n",
    "```\n",
    "\n",
    "## Convenciones de Variables\n",
    "\n",
    "Todos los nombres de variables empiezan con letra minúscula, si el nombre de la variable esta compuesto por mas de una palabra, la primera letra de cada palabra debe ser mayúscula.\n",
    "\n",
    "```java\n",
    "int miVariable = 0;\n",
    "```\n",
    "\n",
    "## Convenciones de Constantes\n",
    "\n",
    "Todos los nombres de constantes están escritos en mayúsculas, si el nombre de la constante esta compuesto por mas de una palabra, estas se separan con guiones bajos.\n",
    "\n",
    "```java\n",
    "int MI_CONSTANTE = 0;\n",
    "```\n",
    "\n",
    "## Convenciones de Paquetes\n",
    "\n",
    "Los packages se escriben en minusculas, generalmente se utiliza el nombre del dominio de internet al revés.\n",
    "\n",
    "```java\n",
    "package com.example.miproyecto;\n",
    "```\n",
    "\n",
    "En caso de duoc.\n",
    "\n",
    "```java\n",
    "package cl.duoc.miproyecto;\n",
    "```"
   ]
  },
  {
   "cell_type": "markdown",
   "metadata": {},
   "source": [
    "# Metodos\n",
    "\n",
    "Tenemos muchos metodos los getter y setter (accesadores y mutadores) estan documentados en el cuadernillo anterior, asi que veremos metodos un poco mas estructurasdos."
   ]
  },
  {
   "cell_type": "code",
   "execution_count": 16,
   "metadata": {
    "vscode": {
     "languageId": "java"
    }
   },
   "outputs": [],
   "source": [
    "// Metodos Custom son metodos creados por el usuario\n",
    "/*\n",
    " * public static int sumar(int a, int b){\n",
    " *     return a + b;\n",
    " * }\n",
    " * Si nos fijamos siempre tiene un esquema de la siguiente forma:\n",
    " * (acceso) (estatico o no) (tipo de retorno) (nombre del metodo) (parametros){\n",
    " *      //codigo\n",
    " *     return (tipo de retorno)\n",
    " * }\n",
    " * si es estatico o no depende de si se puede acceder sin crear un objeto de la clase\n",
    " * y de donde se puede acceder\n",
    " */\n"
   ]
  },
  {
   "cell_type": "markdown",
   "metadata": {},
   "source": [
    "veremos un pequeño ejemplo de un metodo que recibe parametros y retorna un valor."
   ]
  },
  {
   "cell_type": "code",
   "execution_count": 22,
   "metadata": {
    "vscode": {
     "languageId": "java"
    }
   },
   "outputs": [
    {
     "name": "stdout",
     "output_type": "stream",
     "text": [
      "Reproduciendo musica\n"
     ]
    }
   ],
   "source": [
    "public class Musica{\n",
    "\n",
    "    public void reproducir(){\n",
    "        System.out.println(\"Reproduciendo musica\");\n",
    "    }\n",
    "}\n",
    "\n",
    "Musica musica = new Musica();\n",
    "musica.reproducir();"
   ]
  },
  {
   "cell_type": "code",
   "execution_count": 23,
   "metadata": {
    "vscode": {
     "languageId": "java"
    }
   },
   "outputs": [
    {
     "ename": "CompilationException",
     "evalue": "",
     "output_type": "error",
     "traceback": [
      "\u001b[1m\u001b[30m|   \u001b[1m\u001b[30m\u001b[0m\u001b[1m\u001b[30m\u001b[41mMusica.reproducir\u001b[0m\u001b[1m\u001b[30m(); // no se puede acceder a un metodo no estatico sin crear un objeto de la clase\u001b[0m",
      "\u001b[1m\u001b[31mnon-static method reproducir() cannot be referenced from a static context\u001b[0m",
      ""
     ]
    }
   ],
   "source": [
    "Musica.reproducir(); // no se puede acceder a un metodo no estatico sin crear un objeto de la clase"
   ]
  },
  {
   "cell_type": "code",
   "execution_count": 24,
   "metadata": {
    "vscode": {
     "languageId": "java"
    }
   },
   "outputs": [
    {
     "name": "stdout",
     "output_type": "stream",
     "text": [
      "Reproduciendo musica\n"
     ]
    }
   ],
   "source": [
    "Musica musica = new Musica(); // pero si, si se crea un objeto de la clase\n",
    "musica.reproducir();"
   ]
  },
  {
   "cell_type": "code",
   "execution_count": 25,
   "metadata": {
    "vscode": {
     "languageId": "java"
    }
   },
   "outputs": [],
   "source": [
    "public class Libro{\n",
    "    public static void leer(){\n",
    "        System.out.println(\"Leyendo libro\");\n",
    "    }\n",
    "}"
   ]
  },
  {
   "cell_type": "code",
   "execution_count": 26,
   "metadata": {
    "vscode": {
     "languageId": "java"
    }
   },
   "outputs": [
    {
     "name": "stdout",
     "output_type": "stream",
     "text": [
      "Leyendo libro\n"
     ]
    }
   ],
   "source": [
    "Libro.leer(); // si se puede acceder a un metodo estatico sin crear un objeto de la clase por que es un metodo statico"
   ]
  }
 ],
 "metadata": {
  "kernelspec": {
   "display_name": "Java",
   "language": "java",
   "name": "java"
  },
  "language_info": {
   "codemirror_mode": "java",
   "file_extension": ".jshell",
   "mimetype": "text/x-java-source",
   "name": "Java",
   "pygments_lexer": "java",
   "version": "20.0.2+9-78"
  },
  "orig_nbformat": 4
 },
 "nbformat": 4,
 "nbformat_minor": 2
}
