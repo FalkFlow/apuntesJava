{
 "cells": [
  {
   "cell_type": "markdown",
   "metadata": {},
   "source": [
    "# Herencia\n",
    "\n",
    "En programación orientada a objetos (POO), la **herencia** es el mecanismo mas utilizado para alcanzar algunos de los objetivos más preciados en el desarrollo de software, como lo son la reutilización y la extensibilidad. Consiste en crear nuevas **clases** partiendo de una clase o una jerarquia de clase ya existente, evitando con ello el rediseño, la modificación y verificación de la parte ya implementada.\n",
    "\n",
    "Es la relación entre una clase general y otra clase más especifica.\n",
    "\n",
    "La herencia es uno de los mecanismos de los lenguajes de las (POO) basadas en clases, por medio de la cual una clase se deriva de otra manera que extiende su funcionalidad. La clase que se hereda se suele denominar **clase padre** o **superclase**."
   ]
  },
  {
   "cell_type": "markdown",
   "metadata": {},
   "source": [
    "## Ejemplo"
   ]
  },
  {
   "cell_type": "code",
   "execution_count": 5,
   "metadata": {
    "vscode": {
     "languageId": "java"
    }
   },
   "outputs": [],
   "source": [
    "public class Mamifero{\n",
    "\n",
    "    private int patas;\n",
    "    private String nombre;\n",
    "\n",
    "    public void imprimirPatas(){\n",
    "        System.out.println(\"Tengo \" + patas + \" patas\");\n",
    "    }\n",
    "\n",
    "    public Mamifero(String nombre, int patas){\n",
    "        this.nombre = nombre;\n",
    "        this.patas = patas;\n",
    "    }\n",
    "}"
   ]
  },
  {
   "cell_type": "code",
   "execution_count": 6,
   "metadata": {
    "vscode": {
     "languageId": "java"
    }
   },
   "outputs": [],
   "source": [
    "public class Perro extends Mamifero{\n",
    "    public Perro(String nombre){\n",
    "        super(nombre, 4);\n",
    "    }\n",
    "}"
   ]
  },
  {
   "cell_type": "code",
   "execution_count": 7,
   "metadata": {
    "vscode": {
     "languageId": "java"
    }
   },
   "outputs": [
    {
     "name": "stdout",
     "output_type": "stream",
     "text": [
      "Tengo 4 patas\n"
     ]
    }
   ],
   "source": [
    "Perro perrito = new Perro(\"Firulais\");\n",
    "perrito.imprimirPatas();"
   ]
  }
 ],
 "metadata": {
  "kernelspec": {
   "display_name": "Java",
   "language": "java",
   "name": "java"
  },
  "language_info": {
   "codemirror_mode": "java",
   "file_extension": ".jshell",
   "mimetype": "text/x-java-source",
   "name": "Java",
   "pygments_lexer": "java",
   "version": "20.0.2+9-78"
  },
  "orig_nbformat": 4
 },
 "nbformat": 4,
 "nbformat_minor": 2
}
